{
 "cells": [
  {
   "cell_type": "code",
   "execution_count": 1,
   "metadata": {},
   "outputs": [],
   "source": [
    "%run \"load_envz.ipynb\""
   ]
  },
  {
   "cell_type": "code",
   "execution_count": 2,
   "metadata": {},
   "outputs": [],
   "source": [
    "### Data sets\n",
    "DATA_DIR = r\"C:\\Users\\wairimu\\Google Drive\\xRepos\\datasets\" "
   ]
  },
  {
   "cell_type": "code",
   "execution_count": 3,
   "metadata": {},
   "outputs": [],
   "source": [
    "def CHWSummaries( dtset, colz, t, grp=None, rnd=2, plotit=True): \n",
    "    print( \"\\n\\n %s\" % t )\n",
    "    dtmp = pd.DataFrame( { \"# Cases\": dtset[ colz  ].sum().round(rnd), \n",
    "       \"Avg. per CHW\": dtset[ colz  ].mean().round(rnd),\n",
    "       \"Min per CHW\": dtset[ colz  ].min().round(rnd),\n",
    "       \"Max per CHW\" : dtset[ colz  ].max().round(rnd),\n",
    "      })\n",
    "    return (dtmp.T, dtmp[\"# Cases\"].T.sort_values().plot( kind=\"bar\", figsize=(15,5)) ) if plotit else dtmp.T"
   ]
  },
  {
   "cell_type": "code",
   "execution_count": null,
   "metadata": {},
   "outputs": [],
   "source": []
  }
 ],
 "metadata": {
  "anaconda-cloud": {},
  "hide_input": false,
  "kernelspec": {
   "display_name": "Python [default]",
   "language": "python",
   "name": "python3"
  },
  "language_info": {
   "codemirror_mode": {
    "name": "ipython",
    "version": 3
   },
   "file_extension": ".py",
   "mimetype": "text/x-python",
   "name": "python",
   "nbconvert_exporter": "python",
   "pygments_lexer": "ipython3",
   "version": "3.6.2"
  },
  "toc": {
   "nav_menu": {},
   "number_sections": true,
   "sideBar": true,
   "skip_h1_title": true,
   "title_cell": "Table of Contents",
   "title_sidebar": "Contents",
   "toc_cell": true,
   "toc_position": {},
   "toc_section_display": true,
   "toc_window_display": false
  }
 },
 "nbformat": 4,
 "nbformat_minor": 2
}
