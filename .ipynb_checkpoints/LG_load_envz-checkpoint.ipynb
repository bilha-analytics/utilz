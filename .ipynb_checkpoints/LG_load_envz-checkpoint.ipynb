{
 "cells": [
  {
   "cell_type": "code",
   "execution_count": 8,
   "metadata": {},
   "outputs": [],
   "source": [
    "#%run \"load_envz.ipynb\""
   ]
  },
  {
   "cell_type": "code",
   "execution_count": 13,
   "metadata": {},
   "outputs": [],
   "source": [
    "### Data sets\n",
    "DATA_DIR = r\"C:\\Users\\wairimu\\Google Drive\\xRepos\\datasets\" \n",
    "\n",
    "SALES_TARGET = 2040\n",
    "\n",
    "REGIONS = {\"KHQ\": [\"HQ\"], \n",
    "    \"KIAMBU_COUNTY\" : [\"Thika\"], \n",
    "    \"NAKURU_COUNTY\" : [\"Kuresoi\"], \n",
    "    \"KISII_COUNTY\" : [\"Kenyenya\", \"Ogembo\", \"Suneka\"], \n",
    "    \"KAKAMEGA_COUNTY\" : [\"Malava\", \"Shinyalu\"],\n",
    "    \"BUSIA_COUNTY\" : [\"Busia\", \"Funyula\", \"Butula\", \"Nambale\", \"Malaba\", \"Port Victoria\"],\n",
    "}"
   ]
  },
  {
   "cell_type": "code",
   "execution_count": 11,
   "metadata": {},
   "outputs": [],
   "source": [
    "def CHWSummaries( dtset, colz, t, grp=None, unit=\"CHW\", rnd=2, plotit=True): \n",
    "    print( \"\\n\\n %s\" % t )\n",
    "    dtmp = pd.DataFrame( { \"# Cases or Sum\": dtset[ colz  ].sum().round(rnd), \n",
    "       \"Avg. per \"+unit: dtset[ colz  ].mean().round(rnd),\n",
    "       \"Min per \"+unit: dtset[ colz  ].min().round(rnd),\n",
    "       \"Max per \"+unit : dtset[ colz  ].max().round(rnd),\n",
    "      })\n",
    "    return (dtmp.T, dtmp[\"# Cases or Sum\"].T.sort_values().plot( kind=\"bar\", figsize=(15,5)) ) if plotit else dtmp.T"
   ]
  },
  {
   "cell_type": "code",
   "execution_count": 7,
   "metadata": {},
   "outputs": [
    {
     "name": "stderr",
     "output_type": "stream",
     "text": [
      "ERROR:root:Cell magic `%%R` not found.\n"
     ]
    }
   ],
   "source": [
    "%%R\n",
    "\n",
    "mtcars"
   ]
  },
  {
   "cell_type": "code",
   "execution_count": null,
   "metadata": {},
   "outputs": [],
   "source": []
  }
 ],
 "metadata": {
  "anaconda-cloud": {},
  "hide_input": false,
  "kernelspec": {
   "display_name": "Python [default]",
   "language": "python",
   "name": "python3"
  },
  "language_info": {
   "codemirror_mode": {
    "name": "ipython",
    "version": 3
   },
   "file_extension": ".py",
   "mimetype": "text/x-python",
   "name": "python",
   "nbconvert_exporter": "python",
   "pygments_lexer": "ipython3",
   "version": "3.6.2"
  },
  "toc": {
   "nav_menu": {},
   "number_sections": true,
   "sideBar": true,
   "skip_h1_title": true,
   "title_cell": "Table of Contents",
   "title_sidebar": "Contents",
   "toc_cell": true,
   "toc_position": {},
   "toc_section_display": true,
   "toc_window_display": false
  }
 },
 "nbformat": 4,
 "nbformat_minor": 2
}
