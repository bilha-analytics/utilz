{
 "cells": [
  {
   "cell_type": "markdown",
   "metadata": {
    "toc": true
   },
   "source": [
    "<h1>Table of Contents<span class=\"tocSkip\"></span></h1>\n",
    "<div class=\"toc\"><ul class=\"toc-item\"></ul></div>"
   ]
  },
  {
   "cell_type": "code",
   "execution_count": 2,
   "metadata": {},
   "outputs": [],
   "source": [
    "## 1. Load libraries and set env \n",
    "import warnings\n",
    "warnings.filterwarnings('ignore')\n",
    "\n",
    "## data structures and manipulation \n",
    "import pandas as pd\n",
    "import numpy as np \n",
    "\n",
    "## visualization \n",
    "import seaborn as sns\n",
    "import matplotlib.pyplot as plt \n",
    "\n",
    "## Text mining and visualization\n",
    "#import pillow  #image reading \n",
    "from wordcloud import WordCloud\n",
    "from wordcloud import STOPWORDS \n",
    "#import pillow\n",
    "\n",
    "\n",
    "## particular datatypes manipulation \n",
    "from dateutil.parser import parse\n",
    "from datetime import datetime as dt \n",
    "\n",
    "from matplotlib.dates import DateFormatter, WeekdayLocator, MO\n",
    "\n",
    "import re # regex\n",
    "\n",
    "\n",
    "## Shared Env flags/config \n",
    "%matplotlib inline \n",
    "from IPython.display import set_matplotlib_formats\n",
    "\n",
    "#set_matplotlib_formats('pdf', 'png')\n",
    "\n",
    "\n",
    "## plot styles \n",
    "plt.style.use('seaborn-white')\n",
    "plt.style.use('ggplot') \n",
    "sns.set(color_codes=True)\n",
    "sns.set_palette('husl')\n",
    "\n",
    "\n",
    "## numerics \n",
    "%precision %.2f \n",
    "#%precision 3\n",
    "\n",
    "\n",
    "## allow multiple outputs per cell\n",
    "from IPython.core.interactiveshell import InteractiveShell\n",
    "InteractiveShell.ast_node_interactivity = \"all\"\n",
    "\n",
    "\n",
    "## Getting R in the mix =D  << TODO: put R libs in a seperate Rscript file and load it from here<<< Excited!!!!!\n",
    "%load_ext rpy2.ipython \n",
    "%R require(ggplot2); require(tidyr); require(dplyr) \n",
    "%load_ext rmagic"
   ]
  },
  {
   "cell_type": "code",
   "execution_count": 7,
   "metadata": {},
   "outputs": [],
   "source": [
    "## Dashboards and widgets stuff\n",
    "#from ipywidgets import widgets, interact, interactive, fixed, interact_manual\n",
    "#import ipywidgets as Widgeter \n",
    "#from Ipython.display import\n",
    "## statistical analysis - Ho-testing and glm Regression \n",
    "import statsmodels.api as sm\n",
    "import statsmodels.formula.api as smf\n",
    "## patsy is a Python library for describing statistical models and building Design Matrices using R-like formulas.\n",
    "import patsy \n",
    "\n",
    "import scipy.stats as sci \n",
    "import math \n"
   ]
  },
  {
   "cell_type": "code",
   "execution_count": 6,
   "metadata": {},
   "outputs": [
    {
     "data": {
      "text/html": [
       "<script type=\"text/javascript\">window.PlotlyConfig = {MathJaxConfig: 'local'};</script><script type=\"text/javascript\">if (window.MathJax) {MathJax.Hub.Config({SVG: {font: \"STIX-Web\"}});}</script><script>requirejs.config({paths: { 'plotly': ['https://cdn.plot.ly/plotly-latest.min']},});if(!window._Plotly) {require(['plotly'],function(plotly) {window._Plotly=plotly;});}</script>"
      ],
      "text/vnd.plotly.v1+html": [
       "<script type=\"text/javascript\">window.PlotlyConfig = {MathJaxConfig: 'local'};</script><script type=\"text/javascript\">if (window.MathJax) {MathJax.Hub.Config({SVG: {font: \"STIX-Web\"}});}</script><script>requirejs.config({paths: { 'plotly': ['https://cdn.plot.ly/plotly-latest.min']},});if(!window._Plotly) {require(['plotly'],function(plotly) {window._Plotly=plotly;});}</script>"
      ]
     },
     "metadata": {},
     "output_type": "display_data"
    },
    {
     "name": "stdout",
     "output_type": "stream",
     "text": [
      "3.4.0\n"
     ]
    }
   ],
   "source": [
    "### DASH Dashboards \n",
    "## Dash is Open source MIT license\n",
    "## Plotly is not though - what implications\n",
    "import dash\n",
    "from dash.dependencies import Input, Output, State\n",
    "import dash_core_components as dcc\n",
    "import dash_html_components as dhtml\n",
    "\n",
    "from pandas_datareader import data as dweb\n",
    "\n",
    "from IPython import display as disp2 ##????\n",
    "\n",
    "## COMMON\n",
    "from IPython.core.display import display, HTML \n",
    "\n",
    "## PLOTLY\n",
    "import plotly.graph_objs as go \n",
    "import plotly.plotly as ply\n",
    "from plotly.offline import download_plotlyjs, init_notebook_mode, plot, iplot\n",
    "#init_notebook_mode(connected=True) \n",
    "\n",
    "## IPYWIDGETS\n",
    "from ipywidgets import widgets\n",
    "from IPython.display import clear_output, Image\n",
    "from plotly.widgets import GraphWidget\n",
    "from ipywidgets import interact\n",
    "\n",
    "\n",
    "\n",
    "#from plotly import __version__\n",
    "#print(__version__)"
   ]
  },
  {
   "cell_type": "code",
   "execution_count": 2,
   "metadata": {
    "collapsed": true
   },
   "outputs": [],
   "source": [
    "### Formatting preambles\n",
    "#plt.rcParams['savefig.dpi'] = 75\n",
    "\n",
    "#plt.rcParams['figure.autolayout'] = False\n",
    "#plt.rcParams['figure.figsize'] = 10, 6#DATA_DIR = Path(\"~/Google\\ Drive/xRepos/datasets\") \n",
    "# Path(\"~\").replace('\\\\', '/'\n",
    "#plt.rcParams['axes.labelsize'] = 18\n",
    "#plt.rcParams['axes.titlesize'] = 20\n",
    "#plt.rcParams['font.size'] = 16\n",
    "#plt.rcParams['lines.linewidth'] = 2.0\n",
    "#plt.rcParams['lines.markersize'] = 8\n",
    "#plt.rcParams['legend.fontsize'] = 14\n",
    "\n",
    "#plt.rcParams['text.usetex'] = True\n",
    "#plt.rcParams['font.family'] = \"serif\"\n",
    "#plt.rcParams['font.serif'] = \"cm\"\n",
    "#plt.rcParams['text.latex.preamble'] = \"\\usepackage{subdepth}, \\usepackage{type1cm}\""
   ]
  },
  {
   "cell_type": "code",
   "execution_count": 11,
   "metadata": {},
   "outputs": [],
   "source": [
    "## Datasets path\n",
    "from pathlib import Path, PureWindowsPath\n",
    "import re\n",
    "#import os\n",
    "\n",
    "cwd = %pwd \n",
    "\n",
    "#DATA_DIR = r\"C:\\Users\\BILHA\\Google Drive\\xRepos\\datasets\" \n",
    "\n",
    "#DATA_DIR = Path(\"~/Google\\ Drive/xRepos/datasets\") \n",
    "# Path(\"~\").replace('\\\\', '/') \n",
    "#DATA_DIR = re.sub(r'\\\\', r'/',  ) + \"Google\\ Drive/xRepos/datasets\" \n",
    "#re.sub(\"[\\\\]\", \"/\", Path( \"~\")) \n",
    "\n",
    "#cwd"
   ]
  },
  {
   "cell_type": "code",
   "execution_count": 4,
   "metadata": {},
   "outputs": [
    {
     "data": {
      "text/plain": [
       "'%.3f'"
      ]
     },
     "execution_count": 4,
     "metadata": {},
     "output_type": "execute_result"
    }
   ],
   "source": []
  },
  {
   "cell_type": "code",
   "execution_count": null,
   "metadata": {},
   "outputs": [],
   "source": []
  }
 ],
 "metadata": {
  "anaconda-cloud": {},
  "hide_input": false,
  "kernelspec": {
   "display_name": "Python 3",
   "language": "python",
   "name": "python3"
  },
  "language_info": {
   "codemirror_mode": {
    "name": "ipython",
    "version": 3
   },
   "file_extension": ".py",
   "mimetype": "text/x-python",
   "name": "python",
   "nbconvert_exporter": "python",
   "pygments_lexer": "ipython3",
   "version": "3.6.3"
  },
  "latex_envs": {
   "LaTeX_envs_menu_present": true,
   "autoclose": false,
   "autocomplete": true,
   "bibliofile": "biblio.bib",
   "cite_by": "apalike",
   "current_citInitial": 1,
   "eqLabelWithNumbers": true,
   "eqNumInitial": 1,
   "hotkeys": {
    "equation": "Ctrl-E",
    "itemize": "Ctrl-I"
   },
   "labels_anchors": false,
   "latex_user_defs": false,
   "report_style_numbering": false,
   "user_envs_cfg": false
  },
  "toc": {
   "nav_menu": {},
   "number_sections": true,
   "sideBar": true,
   "skip_h1_title": true,
   "title_cell": "Table of Contents",
   "title_sidebar": "Contents",
   "toc_cell": true,
   "toc_position": {},
   "toc_section_display": true,
   "toc_window_display": false
  }
 },
 "nbformat": 4,
 "nbformat_minor": 2
}
