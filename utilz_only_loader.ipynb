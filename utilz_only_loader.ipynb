{
 "cells": [
  {
   "cell_type": "markdown",
   "metadata": {
    "toc": true
   },
   "source": [
    "<h1>Table of Contents<span class=\"tocSkip\"></span></h1>\n",
    "<div class=\"toc\"><ul class=\"toc-item\"></ul></div>"
   ]
  },
  {
   "cell_type": "code",
   "execution_count": 1,
   "metadata": {},
   "outputs": [],
   "source": [
    "%run \"C:\\Users\\BILHA\\Google Drive\\xRepos\\xUtilz\\envz_only_loader.ipynb\""
   ]
  },
  {
   "cell_type": "code",
   "execution_count": 2,
   "metadata": {},
   "outputs": [
    {
     "data": {
      "text/plain": [
       "'\\nget a plot object with pretty set for matplotlib  \\n'"
      ]
     },
     "execution_count": 2,
     "metadata": {},
     "output_type": "execute_result"
    },
    {
     "data": {
      "text/plain": [
       "'\\nDefine n for different group levels \\n    - Too Slow or never terminates TODO\\n'"
      ]
     },
     "execution_count": 2,
     "metadata": {},
     "output_type": "execute_result"
    },
    {
     "data": {
      "text/plain": [
       "\"\\nDon't know why needed this one instead of using default describe \\n\""
      ]
     },
     "execution_count": 2,
     "metadata": {},
     "output_type": "execute_result"
    },
    {
     "data": {
      "text/plain": [
       "'\\nUsing default describe - TODO pretty format\\n'"
      ]
     },
     "execution_count": 2,
     "metadata": {},
     "output_type": "execute_result"
    },
    {
     "data": {
      "text/plain": [
       "'\\n\\n'"
      ]
     },
     "execution_count": 2,
     "metadata": {},
     "output_type": "execute_result"
    },
    {
     "data": {
      "text/plain": [
       "'\\nCreates buckets based on percentiles\\n'"
      ]
     },
     "execution_count": 2,
     "metadata": {},
     "output_type": "execute_result"
    }
   ],
   "source": [
    "## Functions \n",
    "\n",
    "\n",
    "\"\"\"\n",
    "get a plot object with pretty set for matplotlib  \n",
    "\"\"\"\n",
    "def plotObject(x=12, y=7, nr=1, nc=1):\n",
    "    fig, ax = plt.subplots( nrows=nr, ncols=nc, figsize=(x,y))\n",
    "    return fig, ax\n",
    "\n",
    "\"\"\"\n",
    "Define n for different group levels \n",
    "    - Too Slow or never terminates TODO\n",
    "\"\"\"\n",
    "def sampleStructure(dtset, colz=None, grp=None, rnd=1, fx=None ):\n",
    "    fx  =  fx if fx else [np.mean, sum ] # np.unique,\n",
    "    if colz and grp: return dtset[colz+[grp]].groupby(grp).agg( fx ).round(rnd) \n",
    "    elif colz: return dtset[colz].agg( fx ).round(rnd)\n",
    "    elif grp: return dtset.groupby(grp).agg(fx ).round(rnd)\n",
    "    else: return dtset.agg( fx ).round(rnd)\n",
    "\n",
    "\"\"\"\n",
    "Don't know why needed this one instead of using default describe \n",
    "\"\"\"\n",
    "def zDescribe( dtset, colz=None, rnd=2):\n",
    "    colz = colz if colz else dtset.columns\n",
    "    \n",
    "    return pd.DataFrame( { \n",
    "        \"Sum\": og_only_dataset[ colz  ].sum().round(rnd), \n",
    "        \"Avg\": og_only_dataset[ colz ].mean().round(rnd),\n",
    "        \"Min\": og_only_dataset[ colz  ].min().round(rnd),\n",
    "        \"Max\" : og_only_dataset[ colz  ].max().round(rnd),\n",
    "        \"SD\" : og_only_dataset[ colz  ].max().round(rnd),\n",
    "              }).T\n",
    "\n",
    "\"\"\"\n",
    "Using default describe - TODO pretty format\n",
    "\"\"\"\n",
    "def zSummarize( dtset, colz=None, rnd=2):\n",
    "    colz = colz if colz else dtset.columns \n",
    "    \n",
    "    return (\n",
    "        dtset[ colz ].describe( ).round( rnd ),\n",
    "        dtset[ colz ].describe( exclude=[ np.number] )\n",
    "    )\n",
    "\n",
    "\"\"\"\n",
    "Find a word = check if a cell has one of a given list of words and return the key of the list it has first\n",
    "\"\"\"\n",
    "def searchString( word, inDict): \n",
    "    for k, v in inDict.items():\n",
    "        v = pd.Series( v ).apply( lambda s: s.upper() )\n",
    "        #print( \"%s [%s]\"%(k,v ) )\n",
    "        rgx = re.compile( r'\\b(?:%s)\\b' % '|'.join( v ) ) \n",
    "        if pd.isnull( word ):\n",
    "            return \"No Response\"\n",
    "        \n",
    "        if rgx.search( word.upper() ) :\n",
    "            return k \n",
    "\n",
    "    \n",
    "## TODO: with margins + fq% \n",
    "\"\"\"\n",
    "Creates buckets based on percentiles\n",
    "\"\"\"\n",
    "def zPercentiles(dtset, colz=None, fxz=None, incdz=None ): \n",
    "    pct = [.2, .4, .5, .6, .8]\n",
    "    incdz='all'\n",
    "    if( colz): return dtset[colz].describe( percentiles=pct, include=incdz).round(2)\n",
    "    else: return dtset.describe(percentiles=pct, include=incdz).round(2)\n",
    "\n",
    "\n",
    "## TODO: update to sns and with group by\n",
    "\"\"\"\n",
    "blot distributions for a given list of fields\n",
    "\"\"\"\n",
    "def plotDistz(dtset, colz=None, grp=None, stk=False):\n",
    "    fig, ax = plotObject()\n",
    "    \n",
    "    if colz and grp: return dtset.groupby(grp).hist(colz, stacked=stk,ax=ax)\n",
    "    elif colz: return dtset.hist(colz, stacked=stk,ax=ax)\n",
    "    elif grp: return dtset.groupby(grp).hist(stacked=stk,ax=ax)\n",
    "    else: return dtset.hist(stacked=stk,ax=ax)\n",
    "\n",
    "    #if( grpz ) return dtset.plot( colz, kind=\"hist\", legend=True, alpha=0.4, ax=ax ) \n",
    "    #return dtset.hist(colz,stacked=True,ax=ax)\n",
    "\n",
    "\n",
    "def plotBoxz(dtset, colz=None, grp=None):\n",
    "    fig, ax = plotObject()\n",
    "    \n",
    "    if colz and grp: return dtset.boxplot( colz, grp, ax=ax) \n",
    "    elif colz: return dtset.boxplot( colz, ax=ax)\n",
    "    elif grp: return dtset.boxplot( grp, ax=ax)\n",
    "    else: return dtset.boxplot( ax=ax)\n",
    "\n",
    "def fqTablez( dtset, grp, colz=None, margz=True, pct=False):\n",
    "    colz = colz if colz else dtset.columns\n",
    "    \n",
    "    return pd.Series( colz ).apply( lambda x: pd.crosstab( dtset[x], grp, margins=margz) ) \n",
    "    #pd.crosstab( dataset.Females, dataset[\"Age Group\"], margins=True).apply( lambda x: x/len(dataset)).round(4)*100\n",
    "\n",
    "    \n",
    "def frequenciez(dtset, colz=None, grp=None, flipaxis=False, margz=True):\n",
    "    #if( grp):  grp = pd.Grouper(key=grp, sort=True)\n",
    "    # 1.tabulate \n",
    "    # pd.crosstab( dtset[colz], dtset[grp], margins=margz)\n",
    "    \n",
    "    # 2.barplot  -- factorplot  \n",
    "    if( flipaxis):\n",
    "        if(colz and grp): return pd.Series(colz).apply(lambda x: sns.countplot(y=x, hue=grp, data=dtset) )\n",
    "        elif(colz): return pd.Series(colz).apply(lambda x: sns.countplot( y=x, data=dtset) )\n",
    "        elif( grp ): \n",
    "            colz = dtset.columns() \n",
    "            return pd.Series(colz).apply(lambda x: sns.countplot( y=x, hue=grp, data=dtset) )\n",
    "        else: \n",
    "            colz = dtset.columns() \n",
    "            return pd.Series(colz).apply(lambda x: sns.countplot( y=x, data=dtset) )\n",
    "    \n",
    "    else:\n",
    "        if(colz and grp): return pd.Series(colz).apply(lambda x: sns.countplot(x=x, hue=grp, data=dtset) )\n",
    "        elif(colz): return pd.Series(colz).apply(lambda x: sns.countplot( x=x, data=dtset) )\n",
    "        elif( grp ): \n",
    "            colz = dtset.columns() \n",
    "            return pd.Series(colz).apply(lambda x: sns.countplot( x=x, hue=grp, data=dtset) )\n",
    "        else: \n",
    "            colz = dtset.columns() \n",
    "            return pd.Series(colz).apply(lambda x: sns.countplot( x=x, data=dtset) )\n",
    "\n",
    "    \n",
    "\n",
    "def corrz(dtset, colz, mthd=\"pearson\"):\n",
    "    return dtset[colz].corr( method=mthd).round(3)\n",
    "\n",
    "\n",
    "def plotCorrz( cor_outz ):\n",
    "    # Generate a mask for the upper triangle\n",
    "    mask = np.zeros_like(cor_outz, dtype=np.bool)\n",
    "    mask[np.triu_indices_from(mask)] = True\n",
    "\n",
    "    # Set up the matplotlib figure\n",
    "    f, ax = plt.subplots(figsize=(7, 7))\n",
    "\n",
    "    # Generate a custom diverging colormap\n",
    "    cmap = sns.diverging_palette(220, 10, as_cmap=True)\n",
    "\n",
    "    # Draw the heatmap with the mask and correct aspect ratio\n",
    "    #TODO: pretty print tables : cor_outz, \n",
    "    return (cor_outz, sns.heatmap(cor_outz, mask=mask, cmap=cmap, vmax=.3, center=0,\n",
    "                square=True, linewidths=.5, cbar_kws={\"shrink\": .5}) )\n",
    "\n",
    "## TODO: generalize to smalls \n",
    "def quintilize(dtset, col, nbGrpz=5, labelzPrefix=\"Quint\"):\n",
    "    labelz = []\n",
    "    for i in range(nbGrpz):\n",
    "        labelz.append( labelzPrefix+\"_\"+str(i+1))\n",
    "    dtset[\"Quints_\"+col] = pd.qcut( dtset[col], nbGrpz, labels=labelz, duplicates='drop') \n",
    "    \n",
    "\n",
    "def checkMissing(dtset):\n",
    "    #dataset.fillna( np.nan )\n",
    "    return \"\\nShape # records, # variables\", dtset.shape, \"\\n\\n\\n Counts of Missing Values \\n\", dtset.apply( lambda x: sum(x.isnull() ), axis=0)\n",
    "\n",
    "#def anonymizeSimple():\n",
    "   \n",
    "\n",
    "\n",
    "\n"
   ]
  },
  {
   "cell_type": "code",
   "execution_count": null,
   "metadata": {},
   "outputs": [],
   "source": [
    "### Dash \n",
    "ext_css = ['https://codepen.io/chriddyp/pen/bWLwgP.css']\n",
    "\n",
    "def show_app( app, port=9999, width=700, height=350, offline=False, in_binder=None):\n",
    "    url = \"http://localhost:%d\"%port \n",
    "    iframe = '<a href=\"{url}\" target=\"_new\">Open in new window</a><hr><iframe src=\"{url}\" width={width} height={height}></iframe>'.format(url = url, width=width, height=height) \n",
    "    disp2.display_html( iframe, raw=True)\n",
    "    return app.run_server(debug=False, host='0.0.0.0', port=port)\n",
    "\n"
   ]
  }
 ],
 "metadata": {
  "anaconda-cloud": {},
  "hide_input": false,
  "kernelspec": {
   "display_name": "Python 3",
   "language": "python",
   "name": "python3"
  },
  "language_info": {
   "codemirror_mode": {
    "name": "ipython",
    "version": 3
   },
   "file_extension": ".py",
   "mimetype": "text/x-python",
   "name": "python",
   "nbconvert_exporter": "python",
   "pygments_lexer": "ipython3",
   "version": "3.6.3"
  },
  "latex_envs": {
   "LaTeX_envs_menu_present": true,
   "autoclose": false,
   "autocomplete": true,
   "bibliofile": "biblio.bib",
   "cite_by": "apalike",
   "current_citInitial": 1,
   "eqLabelWithNumbers": true,
   "eqNumInitial": 1,
   "hotkeys": {
    "equation": "Ctrl-E",
    "itemize": "Ctrl-I"
   },
   "labels_anchors": false,
   "latex_user_defs": false,
   "report_style_numbering": false,
   "user_envs_cfg": false
  },
  "toc": {
   "nav_menu": {},
   "number_sections": true,
   "sideBar": true,
   "skip_h1_title": true,
   "title_cell": "Table of Contents",
   "title_sidebar": "Contents",
   "toc_cell": true,
   "toc_position": {},
   "toc_section_display": true,
   "toc_window_display": false
  }
 },
 "nbformat": 4,
 "nbformat_minor": 2
}
