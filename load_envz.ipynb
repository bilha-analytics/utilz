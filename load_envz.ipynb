{
 "cells": [
  {
   "cell_type": "markdown",
   "metadata": {
    "toc": true
   },
   "source": [
    "<h1>Table of Contents<span class=\"tocSkip\"></span></h1>\n",
    "<div class=\"toc\"><ul class=\"toc-item\"></ul></div>"
   ]
  },
  {
   "cell_type": "code",
   "execution_count": 1,
   "metadata": {
    "collapsed": true
   },
   "outputs": [],
   "source": [
    "# %load \"load_libraries_and_datasets.py\"\n",
    "## 1. Load libraries and set env \n",
    "import warnings\n",
    "warnings.filterwarnings('ignore')\n",
    "\n",
    "## data structures and manipulation \n",
    "import pandas as pd\n",
    "import numpy as np \n",
    "\n",
    "## visualization \n",
    "import seaborn as sns\n",
    "import matplotlib.pyplot as plt \n",
    "\n",
    "## particular datatypes manipulation \n",
    "from dateutil.parser import parse\n",
    "\n",
    "## statistical analysis - Ho-testing and glm Regression \n",
    "import statsmodels.api as sm\n",
    "import statsmodels.formula.api as smf\n",
    "## patsy is a Python library for describing statistical models and building Design Matrices using R-like formulas.\n",
    "import patsy \n",
    "\n",
    "import scipy.stats as sci \n",
    "import math \n",
    "\n",
    "\n",
    "## Shared Env\n",
    "%matplotlib inline \n",
    "from IPython.display import set_matplotlib_formats\n",
    "#set_matplotlib_formats('pdf', 'png')\n",
    "\n",
    "\n",
    "## plot styles \n",
    "plt.style.use('seaborn-white')\n",
    "plt.style.use('ggplot') \n",
    "sns.set(color_codes=True)\n",
    "\n",
    "\n",
    "## allow multiple outputs per cell\n",
    "from IPython.core.interactiveshell import InteractiveShell\n",
    "InteractiveShell.ast_node_interactivity = \"all\"\n",
    "\n",
    "\n",
    "from IPython.core.interactiveshell import InteractiveShell\n",
    "InteractiveShell.ast_node_interactivity = \"all\"\n",
    "\n",
    "## Getting R in the mix =D  << TODO: put R libs in a seperate Rscript file and load it from here<<< Excited!!!!!\n",
    "# %load_ext rpy2.ipython \n",
    "# %R require(ggplot2); require(tidyr); require(dplyr) "
   ]
  },
  {
   "cell_type": "code",
   "execution_count": 2,
   "metadata": {
    "collapsed": true
   },
   "outputs": [],
   "source": [
    "### Formatting preambles\n",
    "#plt.rcParams['savefig.dpi'] = 75\n",
    "\n",
    "#plt.rcParams['figure.autolayout'] = False\n",
    "#plt.rcParams['figure.figsize'] = 10, 6\n",
    "#plt.rcParams['axes.labelsize'] = 18\n",
    "#plt.rcParams['axes.titlesize'] = 20\n",
    "#plt.rcParams['font.size'] = 16\n",
    "#plt.rcParams['lines.linewidth'] = 2.0\n",
    "#plt.rcParams['lines.markersize'] = 8\n",
    "#plt.rcParams['legend.fontsize'] = 14\n",
    "\n",
    "#plt.rcParams['text.usetex'] = True\n",
    "#plt.rcParams['font.family'] = \"serif\"\n",
    "#plt.rcParams['font.serif'] = \"cm\"\n",
    "#plt.rcParams['text.latex.preamble'] = \"\\usepackage{subdepth}, \\usepackage{type1cm}\""
   ]
  },
  {
   "cell_type": "code",
   "execution_count": 9,
   "metadata": {
    "collapsed": true
   },
   "outputs": [],
   "source": [
    "# help(patsy)\n",
    "## Functions \n",
    "def sampleStructure(dtset, grp):\n",
    "    argz = { \n",
    "        \"CHP ID\": {\"# CHPs\": \"count\"},\n",
    "        \"Households Registered\": { \"# HHs\": \"sum\", \"Avg.CHP.Size\": \"mean\"},\n",
    "        \"Sales\" : { \"KES Sales\": \"sum\", \"Avg.CHP Sales\": \"mean\"},\n",
    "        \"Pregnancy\" : { \"# Pregoz Cases\": \"sum\", \"Avg.CHP Pregoz\": \"mean\"},\n",
    "        \"Community Events\" : { \"# Events\": \"sum\", \"Avg.CHP Events\": \"mean\"}, \n",
    "        \"All Malaria Assessments\" : { \"# Malaria Cases\": \"sum\", \"Avg.CHP Malaria\": \"mean\"},\n",
    "        \"Total U5 Assessments\" : { \"# Child Cases\": \"sum\", \"Avg.CHP U5\": \"mean\"},\n",
    "        \"Total U1 Assessments\" : { \"# U1 Cases\": \"sum\", \"Avg.CHP U1\": \"mean\"},        \n",
    "    }\n",
    "    return dtset.groupby(grp).agg( argz).round(0)\n",
    "\n",
    "\n",
    "## TODO: with margins + fq% \n",
    "def summarizer(dtset): \n",
    "    return dtset.describe().round(2)\n",
    "\n",
    "## TODO: update to sns and with group by\n",
    "def distributionz(dtset, colz, grpz=\"\"):\n",
    "    fig, ax = plt.subplots( figsize=(10,10))\n",
    "    # return dtset.plot( colz, kind=\"hist\", legend=True, alpha=0.4, ax=ax ) \n",
    "    return dtset.hist(colz,stacked=True,ax=ax)\n",
    "\n",
    "def boxplotz(dtset, colz, grp):\n",
    "    fig, ax = plt.subplots( figsize=(10,10))\n",
    "    return dtset.boxplot( colz, grp, ax)\n",
    "\n",
    "def corrz(dtset, colz, mthd=\"pearson\"):\n",
    "    return dtset[colz].corr( method=mthd).round(3)\n",
    "    \n",
    "def plotCorrz( cor_outz ):\n",
    "    # Generate a mask for the upper triangle\n",
    "    mask = np.zeros_like(cor_outz, dtype=np.bool)\n",
    "    mask[np.triu_indices_from(mask)] = True\n",
    "\n",
    "    # Set up the matplotlib figure\n",
    "    f, ax = plt.subplots(figsize=(7, 7))\n",
    "\n",
    "    # Generate a custom diverging colormap\n",
    "    cmap = sns.diverging_palette(220, 10, as_cmap=True)\n",
    "\n",
    "    # Draw the heatmap with the mask and correct aspect ratio\n",
    "    #TODO: pretty print tables : cor_outz, \n",
    "    return sns.heatmap(cor_outz, mask=mask, cmap=cmap, vmax=.3, center=0,\n",
    "                square=True, linewidths=.5, cbar_kws={\"shrink\": .5})\n",
    "\n",
    "## TODO: generalize to smalls \n",
    "def quintilize(dtset, col, nbGrpz=5, labelzPrefix=\"Quint\"):\n",
    "    labelz = []\n",
    "    for i in range(nbGrpz):\n",
    "        labelz.append( labelzPrefix+\"_\"+str(i+1))\n",
    "    dtset[\"Quints_\"+col] = pd.qcut( dtset[col], nbGrpz, labels=labelz, duplicates='drop') \n",
    "    \n",
    "\n",
    "def checkMissing(dtset):\n",
    "    #dataset.fillna( np.nan )\n",
    "    return \"\\nShape # records, # variables\", dtset.shape, \"\\n\\n\\n Counts of Missing Values \\n\", dtset.apply( lambda x: sum(x.isnull() ), axis=0)\n",
    "\n",
    "\n",
    "\n",
    "\n"
   ]
  },
  {
   "cell_type": "code",
   "execution_count": null,
   "metadata": {
    "collapsed": true
   },
   "outputs": [],
   "source": []
  },
  {
   "cell_type": "raw",
   "metadata": {},
   "source": [
    "<script>\n",
    "  function code_toggle() {\n",
    "    if (code_shown){\n",
    "      $('div.input').hide('500');\n",
    "      $('#toggleButton').val('Show Code')\n",
    "    } else {\n",
    "      $('div.input').show('500');\n",
    "      $('#toggleButton').val('Hide Code')\n",
    "    }\n",
    "    code_shown = !code_shown\n",
    "  }\n",
    "\n",
    "  $( document ).ready(function(){\n",
    "    code_shown=false;\n",
    "    $('div.input').hide()\n",
    "  });\n",
    "</script>\n",
    "<form action=\"javascript:code_toggle()\"><input type=\"submit\" id=\"toggleButton\" value=\"Show Code\"></form>"
   ]
  },
  {
   "cell_type": "code",
   "execution_count": null,
   "metadata": {
    "collapsed": true
   },
   "outputs": [],
   "source": []
  },
  {
   "cell_type": "code",
   "execution_count": null,
   "metadata": {
    "collapsed": true
   },
   "outputs": [],
   "source": []
  }
 ],
 "metadata": {
  "hide_input": false,
  "kernelspec": {
   "display_name": "Python 3",
   "language": "python",
   "name": "python3"
  },
  "language_info": {
   "codemirror_mode": {
    "name": "ipython",
    "version": 3
   },
   "file_extension": ".py",
   "mimetype": "text/x-python",
   "name": "python",
   "nbconvert_exporter": "python",
   "pygments_lexer": "ipython3",
   "version": "3.6.3"
  },
  "toc": {
   "nav_menu": {},
   "number_sections": true,
   "sideBar": true,
   "skip_h1_title": true,
   "title_cell": "Table of Contents",
   "title_sidebar": "Contents",
   "toc_cell": true,
   "toc_position": {},
   "toc_section_display": true,
   "toc_window_display": false
  }
 },
 "nbformat": 4,
 "nbformat_minor": 2
}
